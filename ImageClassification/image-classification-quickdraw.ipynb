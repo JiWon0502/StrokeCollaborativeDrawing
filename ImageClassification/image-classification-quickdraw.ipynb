{
 "cells": [
  {
   "cell_type": "code",
   "execution_count": 1,
   "id": "84089e20-7d52-44d3-8039-963a33a8febf",
   "metadata": {},
   "outputs": [],
   "source": [
    "import random \n",
    "import pandas as pd\n",
    "import numpy as np"
   ]
  },
  {
   "cell_type": "code",
   "execution_count": 2,
   "id": "76adb50e-cd76-49d6-b590-d659d8d96bc4",
   "metadata": {},
   "outputs": [],
   "source": [
    "from numpy import asarray\n",
    "from numpy import save\n",
    "from numpy import load"
   ]
  },
  {
   "cell_type": "code",
   "execution_count": 3,
   "id": "67d952ac-ee22-4a56-9150-dfca579c45b4",
   "metadata": {},
   "outputs": [
    {
     "name": "stdout",
     "output_type": "stream",
     "text": [
      "Requirement already satisfied: pypng in c:\\users\\user\\anaconda3\\lib\\site-packages (0.20220715.0)\n"
     ]
    }
   ],
   "source": [
    "!pip install pypng"
   ]
  },
  {
   "cell_type": "code",
   "execution_count": 4,
   "id": "f7f43888-2e22-4e2c-aa5d-7cf4f0b4639e",
   "metadata": {},
   "outputs": [],
   "source": [
    "from PIL import Image\n",
    "import png\n",
    "import os"
   ]
  },
  {
   "cell_type": "code",
   "execution_count": 5,
   "id": "14158b5d-59fd-46af-85fd-77406dad257f",
   "metadata": {},
   "outputs": [
    {
     "name": "stdout",
     "output_type": "stream",
     "text": [
      "Requirement already satisfied: opencv-python in c:\\users\\user\\anaconda3\\lib\\site-packages (4.9.0.80)\n",
      "Requirement already satisfied: numpy>=1.21.2 in c:\\users\\user\\anaconda3\\lib\\site-packages (from opencv-python) (1.26.4)\n"
     ]
    }
   ],
   "source": [
    "!pip install opencv-python\n"
   ]
  },
  {
   "cell_type": "code",
   "execution_count": 6,
   "id": "12718fa9-6eab-4672-9d31-0d1fc972e36b",
   "metadata": {},
   "outputs": [],
   "source": [
    "import json\n",
    "import cv2\n",
    "import matplotlib.pyplot as plt"
   ]
  },
  {
   "cell_type": "code",
   "execution_count": 7,
   "id": "70793175-1fc6-4fa1-8f1d-eb56116b23ed",
   "metadata": {},
   "outputs": [],
   "source": [
    "from sklearn.model_selection import train_test_split\n",
    "from sklearn.model_selection import KFold\n",
    "from sklearn.model_selection import GridSearchCV"
   ]
  },
  {
   "cell_type": "code",
   "execution_count": 8,
   "id": "533133f3-2d40-49fc-bfd9-62d11ca74c6a",
   "metadata": {},
   "outputs": [
    {
     "name": "stdout",
     "output_type": "stream",
     "text": [
      "Requirement already satisfied: tensorflow in c:\\users\\user\\anaconda3\\lib\\site-packages (2.16.1)\n",
      "Requirement already satisfied: tensorflow-intel==2.16.1 in c:\\users\\user\\anaconda3\\lib\\site-packages (from tensorflow) (2.16.1)\n",
      "Requirement already satisfied: absl-py>=1.0.0 in c:\\users\\user\\anaconda3\\lib\\site-packages (from tensorflow-intel==2.16.1->tensorflow) (2.1.0)\n",
      "Requirement already satisfied: astunparse>=1.6.0 in c:\\users\\user\\anaconda3\\lib\\site-packages (from tensorflow-intel==2.16.1->tensorflow) (1.6.3)\n",
      "Requirement already satisfied: flatbuffers>=23.5.26 in c:\\users\\user\\anaconda3\\lib\\site-packages (from tensorflow-intel==2.16.1->tensorflow) (24.3.25)\n",
      "Requirement already satisfied: gast!=0.5.0,!=0.5.1,!=0.5.2,>=0.2.1 in c:\\users\\user\\anaconda3\\lib\\site-packages (from tensorflow-intel==2.16.1->tensorflow) (0.5.4)\n",
      "Requirement already satisfied: google-pasta>=0.1.1 in c:\\users\\user\\anaconda3\\lib\\site-packages (from tensorflow-intel==2.16.1->tensorflow) (0.2.0)\n",
      "Requirement already satisfied: h5py>=3.10.0 in c:\\users\\user\\anaconda3\\lib\\site-packages (from tensorflow-intel==2.16.1->tensorflow) (3.11.0)\n",
      "Requirement already satisfied: libclang>=13.0.0 in c:\\users\\user\\anaconda3\\lib\\site-packages (from tensorflow-intel==2.16.1->tensorflow) (18.1.1)\n",
      "Requirement already satisfied: ml-dtypes~=0.3.1 in c:\\users\\user\\anaconda3\\lib\\site-packages (from tensorflow-intel==2.16.1->tensorflow) (0.3.2)\n",
      "Requirement already satisfied: opt-einsum>=2.3.2 in c:\\users\\user\\anaconda3\\lib\\site-packages (from tensorflow-intel==2.16.1->tensorflow) (3.3.0)\n",
      "Requirement already satisfied: packaging in c:\\users\\user\\anaconda3\\lib\\site-packages (from tensorflow-intel==2.16.1->tensorflow) (23.1)\n",
      "Requirement already satisfied: protobuf!=4.21.0,!=4.21.1,!=4.21.2,!=4.21.3,!=4.21.4,!=4.21.5,<5.0.0dev,>=3.20.3 in c:\\users\\user\\anaconda3\\lib\\site-packages (from tensorflow-intel==2.16.1->tensorflow) (3.20.3)\n",
      "Requirement already satisfied: requests<3,>=2.21.0 in c:\\users\\user\\anaconda3\\lib\\site-packages (from tensorflow-intel==2.16.1->tensorflow) (2.31.0)\n",
      "Requirement already satisfied: setuptools in c:\\users\\user\\anaconda3\\lib\\site-packages (from tensorflow-intel==2.16.1->tensorflow) (68.2.2)\n",
      "Requirement already satisfied: six>=1.12.0 in c:\\users\\user\\anaconda3\\lib\\site-packages (from tensorflow-intel==2.16.1->tensorflow) (1.16.0)\n",
      "Requirement already satisfied: termcolor>=1.1.0 in c:\\users\\user\\anaconda3\\lib\\site-packages (from tensorflow-intel==2.16.1->tensorflow) (2.4.0)\n",
      "Requirement already satisfied: typing-extensions>=3.6.6 in c:\\users\\user\\anaconda3\\lib\\site-packages (from tensorflow-intel==2.16.1->tensorflow) (4.9.0)\n",
      "Requirement already satisfied: wrapt>=1.11.0 in c:\\users\\user\\anaconda3\\lib\\site-packages (from tensorflow-intel==2.16.1->tensorflow) (1.14.1)\n",
      "Requirement already satisfied: grpcio<2.0,>=1.24.3 in c:\\users\\user\\anaconda3\\lib\\site-packages (from tensorflow-intel==2.16.1->tensorflow) (1.63.0)\n",
      "Requirement already satisfied: tensorboard<2.17,>=2.16 in c:\\users\\user\\anaconda3\\lib\\site-packages (from tensorflow-intel==2.16.1->tensorflow) (2.16.2)\n",
      "Requirement already satisfied: keras>=3.0.0 in c:\\users\\user\\anaconda3\\lib\\site-packages (from tensorflow-intel==2.16.1->tensorflow) (3.3.3)\n",
      "Requirement already satisfied: tensorflow-io-gcs-filesystem>=0.23.1 in c:\\users\\user\\anaconda3\\lib\\site-packages (from tensorflow-intel==2.16.1->tensorflow) (0.31.0)\n",
      "Requirement already satisfied: numpy<2.0.0,>=1.23.5 in c:\\users\\user\\anaconda3\\lib\\site-packages (from tensorflow-intel==2.16.1->tensorflow) (1.26.4)\n",
      "Requirement already satisfied: wheel<1.0,>=0.23.0 in c:\\users\\user\\anaconda3\\lib\\site-packages (from astunparse>=1.6.0->tensorflow-intel==2.16.1->tensorflow) (0.41.2)\n",
      "Requirement already satisfied: rich in c:\\users\\user\\anaconda3\\lib\\site-packages (from keras>=3.0.0->tensorflow-intel==2.16.1->tensorflow) (13.3.5)\n",
      "Requirement already satisfied: namex in c:\\users\\user\\anaconda3\\lib\\site-packages (from keras>=3.0.0->tensorflow-intel==2.16.1->tensorflow) (0.0.8)\n",
      "Requirement already satisfied: optree in c:\\users\\user\\anaconda3\\lib\\site-packages (from keras>=3.0.0->tensorflow-intel==2.16.1->tensorflow) (0.11.0)\n",
      "Requirement already satisfied: charset-normalizer<4,>=2 in c:\\users\\user\\anaconda3\\lib\\site-packages (from requests<3,>=2.21.0->tensorflow-intel==2.16.1->tensorflow) (2.0.4)\n",
      "Requirement already satisfied: idna<4,>=2.5 in c:\\users\\user\\anaconda3\\lib\\site-packages (from requests<3,>=2.21.0->tensorflow-intel==2.16.1->tensorflow) (3.4)\n",
      "Requirement already satisfied: urllib3<3,>=1.21.1 in c:\\users\\user\\anaconda3\\lib\\site-packages (from requests<3,>=2.21.0->tensorflow-intel==2.16.1->tensorflow) (2.0.7)\n",
      "Requirement already satisfied: certifi>=2017.4.17 in c:\\users\\user\\anaconda3\\lib\\site-packages (from requests<3,>=2.21.0->tensorflow-intel==2.16.1->tensorflow) (2024.2.2)\n",
      "Requirement already satisfied: markdown>=2.6.8 in c:\\users\\user\\anaconda3\\lib\\site-packages (from tensorboard<2.17,>=2.16->tensorflow-intel==2.16.1->tensorflow) (3.4.1)\n",
      "Requirement already satisfied: tensorboard-data-server<0.8.0,>=0.7.0 in c:\\users\\user\\anaconda3\\lib\\site-packages (from tensorboard<2.17,>=2.16->tensorflow-intel==2.16.1->tensorflow) (0.7.2)\n",
      "Requirement already satisfied: werkzeug>=1.0.1 in c:\\users\\user\\anaconda3\\lib\\site-packages (from tensorboard<2.17,>=2.16->tensorflow-intel==2.16.1->tensorflow) (2.2.3)\n",
      "Requirement already satisfied: MarkupSafe>=2.1.1 in c:\\users\\user\\anaconda3\\lib\\site-packages (from werkzeug>=1.0.1->tensorboard<2.17,>=2.16->tensorflow-intel==2.16.1->tensorflow) (2.1.3)\n",
      "Requirement already satisfied: markdown-it-py<3.0.0,>=2.2.0 in c:\\users\\user\\anaconda3\\lib\\site-packages (from rich->keras>=3.0.0->tensorflow-intel==2.16.1->tensorflow) (2.2.0)\n",
      "Requirement already satisfied: pygments<3.0.0,>=2.13.0 in c:\\users\\user\\anaconda3\\lib\\site-packages (from rich->keras>=3.0.0->tensorflow-intel==2.16.1->tensorflow) (2.15.1)\n",
      "Requirement already satisfied: mdurl~=0.1 in c:\\users\\user\\anaconda3\\lib\\site-packages (from markdown-it-py<3.0.0,>=2.2.0->rich->keras>=3.0.0->tensorflow-intel==2.16.1->tensorflow) (0.1.0)\n"
     ]
    }
   ],
   "source": [
    "!pip install tensorflow"
   ]
  },
  {
   "cell_type": "code",
   "execution_count": 9,
   "id": "c8b83360-2049-4507-ab70-ee0e98e22054",
   "metadata": {},
   "outputs": [],
   "source": [
    "from tensorflow import keras\n",
    "from keras import models\n",
    "from keras.optimizers import Adam\n",
    "from keras.optimizers import RMSprop\n",
    "from keras import layers"
   ]
  },
  {
   "cell_type": "code",
   "execution_count": 10,
   "id": "b20a0e5c-f3fa-4616-a96c-aa5024e5d515",
   "metadata": {},
   "outputs": [
    {
     "name": "stdout",
     "output_type": "stream",
     "text": [
      "Requirement already satisfied: scikeras in c:\\users\\user\\anaconda3\\lib\\site-packages (0.13.0)\n",
      "Requirement already satisfied: keras>=3.2.0 in c:\\users\\user\\anaconda3\\lib\\site-packages (from scikeras) (3.3.3)\n",
      "Requirement already satisfied: scikit-learn>=1.4.2 in c:\\users\\user\\anaconda3\\lib\\site-packages (from scikeras) (1.4.2)\n",
      "Requirement already satisfied: absl-py in c:\\users\\user\\anaconda3\\lib\\site-packages (from keras>=3.2.0->scikeras) (2.1.0)\n",
      "Requirement already satisfied: numpy in c:\\users\\user\\anaconda3\\lib\\site-packages (from keras>=3.2.0->scikeras) (1.26.4)\n",
      "Requirement already satisfied: rich in c:\\users\\user\\anaconda3\\lib\\site-packages (from keras>=3.2.0->scikeras) (13.3.5)\n",
      "Requirement already satisfied: namex in c:\\users\\user\\anaconda3\\lib\\site-packages (from keras>=3.2.0->scikeras) (0.0.8)\n",
      "Requirement already satisfied: h5py in c:\\users\\user\\anaconda3\\lib\\site-packages (from keras>=3.2.0->scikeras) (3.11.0)\n",
      "Requirement already satisfied: optree in c:\\users\\user\\anaconda3\\lib\\site-packages (from keras>=3.2.0->scikeras) (0.11.0)\n",
      "Requirement already satisfied: ml-dtypes in c:\\users\\user\\anaconda3\\lib\\site-packages (from keras>=3.2.0->scikeras) (0.3.2)\n",
      "Requirement already satisfied: scipy>=1.6.0 in c:\\users\\user\\anaconda3\\lib\\site-packages (from scikit-learn>=1.4.2->scikeras) (1.11.4)\n",
      "Requirement already satisfied: joblib>=1.2.0 in c:\\users\\user\\anaconda3\\lib\\site-packages (from scikit-learn>=1.4.2->scikeras) (1.2.0)\n",
      "Requirement already satisfied: threadpoolctl>=2.0.0 in c:\\users\\user\\anaconda3\\lib\\site-packages (from scikit-learn>=1.4.2->scikeras) (2.2.0)\n",
      "Requirement already satisfied: typing-extensions>=4.0.0 in c:\\users\\user\\anaconda3\\lib\\site-packages (from optree->keras>=3.2.0->scikeras) (4.9.0)\n",
      "Requirement already satisfied: markdown-it-py<3.0.0,>=2.2.0 in c:\\users\\user\\anaconda3\\lib\\site-packages (from rich->keras>=3.2.0->scikeras) (2.2.0)\n",
      "Requirement already satisfied: pygments<3.0.0,>=2.13.0 in c:\\users\\user\\anaconda3\\lib\\site-packages (from rich->keras>=3.2.0->scikeras) (2.15.1)\n",
      "Requirement already satisfied: mdurl~=0.1 in c:\\users\\user\\anaconda3\\lib\\site-packages (from markdown-it-py<3.0.0,>=2.2.0->rich->keras>=3.2.0->scikeras) (0.1.0)\n"
     ]
    }
   ],
   "source": [
    "!pip install scikeras"
   ]
  },
  {
   "cell_type": "code",
   "execution_count": 11,
   "id": "ee5e3308-805b-4127-9f0e-36e46b766a04",
   "metadata": {},
   "outputs": [],
   "source": [
    "from scikeras.wrappers import KerasClassifier"
   ]
  },
  {
   "cell_type": "code",
   "execution_count": 12,
   "id": "422ba522-87cb-4b8e-b83c-635cf10683ca",
   "metadata": {},
   "outputs": [
    {
     "name": "stdout",
     "output_type": "stream",
     "text": [
      "Requirement already satisfied: scikit-learn in c:\\users\\user\\anaconda3\\lib\\site-packages (1.4.2)\n",
      "Requirement already satisfied: numpy>=1.19.5 in c:\\users\\user\\anaconda3\\lib\\site-packages (from scikit-learn) (1.26.4)\n",
      "Requirement already satisfied: scipy>=1.6.0 in c:\\users\\user\\anaconda3\\lib\\site-packages (from scikit-learn) (1.11.4)\n",
      "Requirement already satisfied: joblib>=1.2.0 in c:\\users\\user\\anaconda3\\lib\\site-packages (from scikit-learn) (1.2.0)\n",
      "Requirement already satisfied: threadpoolctl>=2.0.0 in c:\\users\\user\\anaconda3\\lib\\site-packages (from scikit-learn) (2.2.0)\n"
     ]
    }
   ],
   "source": [
    "!pip install --upgrade scikit-learn"
   ]
  },
  {
   "cell_type": "code",
   "execution_count": 13,
   "id": "4253062e-28cc-459e-b2d6-f35e84e28d8b",
   "metadata": {},
   "outputs": [],
   "source": [
    "from sklearn.metrics import confusion_matrix"
   ]
  },
  {
   "cell_type": "code",
   "execution_count": 14,
   "id": "ab0d92a7-31f1-47e5-9a87-7564b699c70f",
   "metadata": {},
   "outputs": [],
   "source": [
    "from sklearn.metrics import ConfusionMatrixDisplay"
   ]
  },
  {
   "cell_type": "code",
   "execution_count": 15,
   "id": "d3910ea1-e7ce-49e7-9f6c-bded9a1b11c0",
   "metadata": {},
   "outputs": [],
   "source": [
    "import seaborn as sns"
   ]
  },
  {
   "cell_type": "code",
   "execution_count": 16,
   "id": "862e04e1-3df9-4352-a4b6-6e64d5c3b4d7",
   "metadata": {},
   "outputs": [],
   "source": [
    "import pickle"
   ]
  },
  {
   "cell_type": "code",
   "execution_count": 17,
   "id": "1538708f-207b-4d15-b806-41f0bdc28bc9",
   "metadata": {},
   "outputs": [],
   "source": [
    "import numpy as np"
   ]
  },
  {
   "cell_type": "code",
   "execution_count": 18,
   "id": "cc2aa675-33e6-4333-9eaf-aa70891a14c2",
   "metadata": {},
   "outputs": [
    {
     "name": "stdout",
     "output_type": "stream",
     "text": [
      "Requirement already satisfied: cairocffi in c:\\users\\user\\anaconda3\\lib\\site-packages (1.7.0)\n",
      "Requirement already satisfied: cffi>=1.1.0 in c:\\users\\user\\anaconda3\\lib\\site-packages (from cairocffi) (1.16.0)\n",
      "Requirement already satisfied: pycparser in c:\\users\\user\\anaconda3\\lib\\site-packages (from cffi>=1.1.0->cairocffi) (2.21)\n"
     ]
    }
   ],
   "source": [
    "!pip install cairocffi\n"
   ]
  },
  {
   "cell_type": "code",
   "execution_count": 19,
   "id": "8f7a1705-5935-4a55-87ea-78b1bf2cd94e",
   "metadata": {},
   "outputs": [
    {
     "name": "stdout",
     "output_type": "stream",
     "text": [
      "Requirement already satisfied: pycairo in c:\\users\\user\\anaconda3\\lib\\site-packages (1.26.0)\n"
     ]
    }
   ],
   "source": [
    "!pip install pycairo"
   ]
  },
  {
   "cell_type": "code",
   "execution_count": 20,
   "id": "2ae00c54-84a4-4a45-90fc-9959dadb44d2",
   "metadata": {},
   "outputs": [],
   "source": [
    "import cairocffi as cairo"
   ]
  },
  {
   "cell_type": "code",
   "execution_count": 21,
   "id": "50a06280-30aa-4ed7-8580-15ca0d63eb08",
   "metadata": {},
   "outputs": [],
   "source": [
    "import numpy as np\n",
    "import cairocffi as cairo"
   ]
  },
  {
   "cell_type": "code",
   "execution_count": 22,
   "id": "a37a245f-989e-4328-8ee0-5247f495e82d",
   "metadata": {},
   "outputs": [],
   "source": [
    "# https://github.com/googlecreativelab/quickdraw-dataset/issues/19\n",
    "def vector_to_raster(vector_images, side=28, line_diameter=16, padding=16, bg_color=(0,0,0), fg_color=(1,1,1)):\n",
    "    \"\"\"\n",
    "    padding and line_diameter are relative to the original 256x256 image.\n",
    "    \"\"\"\n",
    "    \n",
    "    original_side = 256.\n",
    "    \n",
    "    surface = cairo.ImageSurface(cairo.FORMAT_ARGB32, side, side)\n",
    "    ctx = cairo.Context(surface)\n",
    "    ctx.set_antialias(cairo.ANTIALIAS_BEST)\n",
    "    ctx.set_line_cap(cairo.LINE_CAP_ROUND)\n",
    "    ctx.set_line_join(cairo.LINE_JOIN_ROUND)\n",
    "    ctx.set_line_width(line_diameter)\n",
    "\n",
    "    # scale to match the new size\n",
    "    # add padding at the edges for the line_diameter\n",
    "    # and add additional padding to account for antialiasing\n",
    "    total_padding = padding * 2. + line_diameter\n",
    "    new_scale = float(side) / float(original_side + total_padding)\n",
    "    ctx.scale(new_scale, new_scale)\n",
    "    ctx.translate(total_padding / 2., total_padding / 2.)\n",
    "\n",
    "    raster_images = []\n",
    "    for vector_image in vector_images:\n",
    "        # clear background\n",
    "        ctx.set_source_rgb(*bg_color)\n",
    "        ctx.paint()\n",
    "        \n",
    "        bbox = np.hstack(vector_image).max(axis=1)\n",
    "        offset = ((original_side, original_side) - bbox) / 2.\n",
    "        offset = offset.reshape(-1,1)\n",
    "        centered = [stroke + offset for stroke in vector_image]\n",
    "\n",
    "        # draw strokes, this is the most cpu-intensive part\n",
    "        ctx.set_source_rgb(*fg_color)        \n",
    "        for xv, yv in centered:\n",
    "            ctx.move_to(xv[0], yv[0])\n",
    "            for x, y in zip(xv, yv):\n",
    "                ctx.line_to(x, y)\n",
    "            ctx.stroke()\n",
    "\n",
    "        data = surface.get_data()\n",
    "        raster_image = np.copy(np.asarray(data)[::4])\n",
    "        raster_image = raster_image.reshape((side, side))\n",
    "        raster_images.append(raster_image)\n",
    "    \n",
    "    return raster_images"
   ]
  },
  {
   "cell_type": "code",
   "execution_count": 23,
   "id": "dd638a49-1326-4795-9207-502452effb02",
   "metadata": {},
   "outputs": [],
   "source": [
    "# airplane, apple, angel, alarm clock\n",
    "def load_data(animal, side, n_images):\n",
    "    \"\"\"This function transforms a json file (with raw data of images) \n",
    "    into lists of 1,000 np.arrays with shape 256*256 (tensors of pixels),\n",
    "    each representing a drawing of an animal \n",
    "    Input = 1 json file\n",
    "    Output = 1,000 np.arrays\"\"\"\n",
    "    animal_data = [json.loads(line) for line in open(f'raw_data/full_simplified_{animal}.ndjson', 'r')]\n",
    "    animal_data = random.choices(animal_data, k=n_images)\n",
    "    vector_images = [element['drawing'] for element in animal_data]\n",
    "    data = vector_to_raster(vector_images, side=side, line_diameter=16, padding=16, bg_color=(1,1,1), fg_color=(0,0,0))\n",
    "    return data"
   ]
  },
  {
   "cell_type": "code",
   "execution_count": 24,
   "id": "00ea97e5-4bf7-4c2e-b434-2baa1cfbc9dd",
   "metadata": {},
   "outputs": [
    {
     "data": {
      "text/plain": [
       "'\\nimport numpy as np\\n\\ndef main(filename):\\n    data = np.load(filename, encoding=\\'latin1\\', allow_pickle=True)\\n    print(data)\\n\\n\\n    # 배열의 추가 정보 출력\\n    print(\"Array shape:\", data.shape)\\n    print(\"Array dtype:\", data.dtype)\\n    #print(\"Array min:\", data.min())\\n    #print(\"Array max:\", data.max())\\n\\n\\nif __name__ == \"__main__\":\\n    filename = \\'./npy/animals/airplane.npy\\'\\n    main(filename)\\n'"
      ]
     },
     "execution_count": 24,
     "metadata": {},
     "output_type": "execute_result"
    }
   ],
   "source": [
    "'''\n",
    "import numpy as np\n",
    "\n",
    "def main(filename):\n",
    "    data = np.load(filename, encoding='latin1', allow_pickle=True)\n",
    "    print(data)\n",
    "\n",
    "\n",
    "    # 배열의 추가 정보 출력\n",
    "    print(\"Array shape:\", data.shape)\n",
    "    print(\"Array dtype:\", data.dtype)\n",
    "    #print(\"Array min:\", data.min())\n",
    "    #print(\"Array max:\", data.max())\n",
    "\n",
    "\n",
    "if __name__ == \"__main__\":\n",
    "    filename = './npy/animals/airplane.npy'\n",
    "    main(filename)\n",
    "'''"
   ]
  },
  {
   "cell_type": "code",
   "execution_count": 25,
   "id": "2f18da7a-a8e8-4a2f-913d-80ab92b99611",
   "metadata": {},
   "outputs": [],
   "source": [
    "def save_png(type_animal, data):\n",
    "    \"\"\"This function transforms np.arrays of pixels with shape 256*256 \n",
    "    into .png (real images of resolution 256*256) and saves them in a subdirectory.\n",
    "    Input = 1, 000 np. arrays \n",
    "    Output = 1,000 drawings of one type of animal (images.png)\"\"\"\n",
    "    path = f'images/{type_animal}'\n",
    "    if type_animal not in os.listdir('images/'):\n",
    "        os.mkdir(path)\n",
    "    for i in range(len(data)):\n",
    "        img = data[i]\n",
    "        png.from_array(np.array(img), 'L').save(f'{path}/img_{i}.png')"
   ]
  },
  {
   "cell_type": "code",
   "execution_count": 26,
   "id": "626b1836-e836-4c14-b283-75b27ce2413b",
   "metadata": {},
   "outputs": [],
   "source": [
    "import numpy as np\n",
    "import gc"
   ]
  },
  {
   "cell_type": "code",
   "execution_count": 27,
   "id": "14983aa6-b1af-49c9-a0c4-4abba445ad43",
   "metadata": {},
   "outputs": [],
   "source": [
    "def plot_samples(X, y, rows=1, cols=5, title=''):\n",
    "    X = X.reshape(X.shape[0], X.shape[1]*X.shape[2])\n",
    "    \n",
    "\n",
    "    # 데이터 타입을 float32로 변경\n",
    "    X = X.astype(np.float32)\n",
    "    y = y.reshape(-1, 1).astype(np.float32)  # y도 2차원 배열로 변경하고 타입을 맞춤\n",
    "\n",
    "    # 메모리를 더 효율적으로 사용하기 위해 np.c_ 대신 np.concatenate 사용\n",
    "    input_data = np.concatenate([X, y], axis=1)\n",
    "\n",
    "    # 사용하지 않는 객체를 명시적으로 삭제하고 가비지 컬렉터 실행\n",
    "    del X, y\n",
    "    gc.collect()\n",
    "\n",
    "    #input_data = np.c_[X, y]\n",
    "    fig, ax = plt.subplots(figsize=(cols,rows))\n",
    "    ax.axis('off')\n",
    "    plt.title(title)\n",
    "\n",
    "    for i in (range(0, min(len(input_data),(rows*cols)))):      \n",
    "        a = fig.add_subplot(rows,cols,i+1)\n",
    "        imgplot = plt.imshow(input_data[i,:65536].reshape((256,256)), cmap='gray_r', interpolation='nearest')\n",
    "        plt.xticks([])\n",
    "        plt.yticks([])"
   ]
  },
  {
   "cell_type": "code",
   "execution_count": 28,
   "id": "75520eea-2428-4285-8100-ac620eaf57c2",
   "metadata": {},
   "outputs": [],
   "source": [
    "def resizing_X(X_orig, small_side):\n",
    "    \"\"\"This function aims at resizing the original features X \n",
    "    (256*256) into smaller dimensions.\"\"\"\n",
    "    X = []\n",
    "    for i in range(X_orig.shape[0]):\n",
    "        X.append([])\n",
    "        for j in range(X_orig.shape[1]):\n",
    "            X[-1].append(cv2.resize(X_orig[i, j,], dsize=(small_side, small_side), interpolation=cv2.INTER_CUBIC))\n",
    "    return np.array(X)"
   ]
  },
  {
   "cell_type": "code",
   "execution_count": 29,
   "id": "a5de4703-3038-427d-a501-b169fc4ff0b8",
   "metadata": {},
   "outputs": [],
   "source": [
    "# dict with 2 classes \n",
    "class_dict_2 = { \n",
    "    'airplane': 0,\n",
    "    'apple': 1, \n",
    "}\n",
    "\n",
    "# dict with 4 classes \n",
    "class_dict_4 = {\n",
    "    'airplane': 0,\n",
    "    'apple': 1,  \n",
    "    'alarm clock': 2,\n",
    "    'angel': 3,\n",
    "}\n",
    "\n",
    "class_dict_4 = {\n",
    "    'airplane': 0,\n",
    "    'apple': 1,  \n",
    "    'alarm clock': 2,\n",
    "    'angel': 3,\n",
    "}"
   ]
  },
  {
   "cell_type": "code",
   "execution_count": 30,
   "id": "b465dbb2-d31a-41bf-bf09-1bf371a5559b",
   "metadata": {},
   "outputs": [],
   "source": [
    "n_images = 1000\n",
    "side = 256\n",
    "\n",
    "X = []\n",
    "y = []"
   ]
  },
  {
   "cell_type": "code",
   "execution_count": 31,
   "id": "523ea993-2ea2-4095-bb39-3c974e59e3a1",
   "metadata": {},
   "outputs": [],
   "source": [
    "class_dict = class_dict_4\n",
    "nb_classes = len(class_dict)"
   ]
  },
  {
   "cell_type": "code",
   "execution_count": 32,
   "id": "63bb4527-a5b5-448c-a138-02c72caaff9b",
   "metadata": {},
   "outputs": [],
   "source": [
    "import json\n",
    "import random"
   ]
  },
  {
   "cell_type": "code",
   "execution_count": 33,
   "id": "863e5a85-8a16-4a04-9fc7-94d02bcd2715",
   "metadata": {
    "scrolled": true
   },
   "outputs": [
    {
     "name": "stdout",
     "output_type": "stream",
     "text": [
      "Animal airplane | Loading data into numpy array\n",
      "Animal airplane | Saving numpy array as npy\n",
      "Animal airplane | Building features and labels\n",
      "Animal airplane | Plotting samples\n",
      "Animal apple | Loading data into numpy array\n",
      "Animal apple | Saving numpy array as npy\n",
      "Animal apple | Building features and labels\n",
      "Animal apple | Plotting samples\n",
      "Animal alarm clock | Loading data into numpy array\n",
      "Animal alarm clock | Saving numpy array as npy\n",
      "Animal alarm clock | Building features and labels\n",
      "Animal alarm clock | Plotting samples\n",
      "Animal angel | Loading data into numpy array\n",
      "Animal angel | Saving numpy array as npy\n",
      "Animal angel | Building features and labels\n",
      "Animal angel | Plotting samples\n"
     ]
    },
    {
     "data": {
      "image/png": "[encoded data removed]",
      "text/plain": [
       "<Figure size 500x100 with 6 Axes>"
      ]
     },
     "metadata": {},
     "output_type": "display_data"
    },
    {
     "data": {
      "image/png": "[encoded data removed]",
      "text/plain": [
       "<Figure size 500x100 with 6 Axes>"
      ]
     },
     "metadata": {},
     "output_type": "display_data"
    },
    {
     "data": {
      "image/png": "[encoded data removed]",
      "text/plain": [
       "<Figure size 500x100 with 6 Axes>"
      ]
     },
     "metadata": {},
     "output_type": "display_data"
    },
    {
     "data": {
      "image/png": "[encoded data removed]",
      "text/plain": [
       "<Figure size 500x100 with 6 Axes>"
      ]
     },
     "metadata": {},
     "output_type": "display_data"
    }
   ],
   "source": [
    "import os\n",
    "\n",
    "# 디렉토리가 존재하는지 확인하고, 없으면 생성\n",
    "\n",
    "\n",
    "for animal in class_dict:\n",
    "    # Load the data into numpy arrays\n",
    "    print(f'Class {animal} | Loading data into numpy array')\n",
    "    data = load_data(animal, side, n_images)\n",
    "    # Save numpy arrays as npy files\n",
    "    print(f'Class {animal} | Saving numpy array as npy')\n",
    "     # 추가\n",
    "    directory = 'npy/animals'\n",
    "   \n",
    "    if not os.path.exists(directory):\n",
    "        os.makedirs(directory)\n",
    "\n",
    "    save(f'npy/animals/{animal}.npy', animal)\n",
    "    # Save the data as images (.png)\n",
    "    #print(f'Animal {animal} | Saving numpy array as png')\n",
    "    #save_png(animal, data)\n",
    "    # Build features and labels\n",
    "    print(f'Class {animal} | Building features and labels')\n",
    "    X_animal = np.array(data)\n",
    "    X.append(X_animal)\n",
    "\n",
    "    X_orig = X\n",
    "    # Creating labels y_animal for each type of animal and appending it to a y tensor\n",
    "    y_animal = np.zeros(n_images,) + class_dict[animal]\n",
    "    y.append(y_animal)\n",
    "    print(f'Class {animal} | Plotting samples')\n",
    "    title =(f'Sample of {animal} drawings')\n",
    "    plot_samples(X_animal, y_animal, rows=1, cols=5, title=title)\n",
    "# new\n",
    "\n",
    "\n",
    "X_orig = np.array(X_orig)\n",
    "X = np.array(X)\n",
    "y = np.array(y, dtype='uint8')"
   ]
  },
  {
   "cell_type": "code",
   "execution_count": 34,
   "id": "f61b2559-db78-44cd-b07a-1c74e8f1495a",
   "metadata": {},
   "outputs": [],
   "source": [
    "# Save the features and the labels\n",
    "directory = 'npy/features_labels'\n",
    "   \n",
    "if not os.path.exists(directory):\n",
    "    os.makedirs(directory)\n",
    "np.save('npy/features_labels/X_orig.npy', X_orig)\n",
    "np.save('npy/features_labels/y.npy', y)"
   ]
  },
  {
   "cell_type": "markdown",
   "id": "5718dc09-7b11-4124-a644-da4c74b3f1e8",
   "metadata": {},
   "source": [
    "# Neural Net"
   ]
  },
  {
   "cell_type": "code",
   "execution_count": 35,
   "id": "fd006754-052b-4168-91dc-c4f252b6d33a",
   "metadata": {},
   "outputs": [],
   "source": [
    "side = 256\n",
    "small_side = 56\n",
    "X = resizing_X(X_orig, small_side)\n",
    "\n",
    "X_orig = X_orig.reshape(X_orig.shape[0] *X_orig.shape[1], side, side)\n",
    "X = X.reshape(X.shape[0] * X.shape[1], small_side, small_side)\n",
    "y = y.reshape(y.shape[0] * y.shape[1])"
   ]
  },
  {
   "cell_type": "code",
   "execution_count": 36,
   "id": "f19c81ff-1c9d-4462-be05-78ac703224f6",
   "metadata": {},
   "outputs": [
    {
     "name": "stderr",
     "output_type": "stream",
     "text": [
      "C:\\Users\\USER\\anaconda3\\Lib\\site-packages\\keras\\src\\layers\\core\\dense.py:87: UserWarning: Do not pass an `input_shape`/`input_dim` argument to a layer. When using Sequential models, prefer using an `Input(shape)` object as the first layer in the model instead.\n",
      "  super().__init__(activity_regularizer=activity_regularizer, **kwargs)\n"
     ]
    }
   ],
   "source": [
    "# Split the dataset into train and test sets (manually)\n",
    "test_size = 0.33\n",
    "train_images, test_images, train_images_orig, test_images_orig, train_labels, test_labels = train_test_split(X, X_orig, y, test_size = test_size, random_state = 69, shuffle = True)\n",
    "\n",
    "# Prepare the data\n",
    "train_images = train_images.reshape(train_images.shape[0], small_side*small_side)\n",
    "train_images = train_images.astype('float32')/255\n",
    "test_images = test_images.reshape(test_images.shape[0], small_side*small_side)\n",
    "test_images = test_images.astype('float32')/255\n",
    "\n",
    "# Build the network architecture (fully connected)\n",
    "network = models.Sequential()\n",
    "network.add(layers.Dense(512, activation='relu', input_shape=(small_side*small_side,)))\n",
    "network.add(layers.Dense(nb_classes, activation='softmax'))\n",
    "\n",
    "opt = RMSprop(learning_rate=0.0001)\n",
    "\n",
    "# Compile the model\n",
    "network.compile(optimizer=opt, \n",
    "               loss='sparse_categorical_crossentropy',\n",
    "               metrics=['accuracy'])"
   ]
  },
  {
   "cell_type": "code",
   "execution_count": 37,
   "id": "2c1be683-5a14-416f-902f-760e75693cd6",
   "metadata": {},
   "outputs": [
    {
     "name": "stdout",
     "output_type": "stream",
     "text": [
      "Epoch 1/30\n",
      "\u001b[1m21/21\u001b[0m \u001b[32m━━━━━━━━━━━━━━━━━━━━\u001b[0m\u001b[37m\u001b[0m \u001b[1m1s\u001b[0m 29ms/step - accuracy: 0.3146 - loss: 2.3533 - val_accuracy: 0.5182 - val_loss: 1.1148\n",
      "Epoch 2/30\n",
      "\u001b[1m21/21\u001b[0m \u001b[32m━━━━━━━━━━━━━━━━━━━━\u001b[0m\u001b[37m\u001b[0m \u001b[1m0s\u001b[0m 21ms/step - accuracy: 0.5265 - loss: 1.1456 - val_accuracy: 0.5091 - val_loss: 1.0762\n",
      "Epoch 3/30\n",
      "\u001b[1m21/21\u001b[0m \u001b[32m━━━━━━━━━━━━━━━━━━━━\u001b[0m\u001b[37m\u001b[0m \u001b[1m0s\u001b[0m 18ms/step - accuracy: 0.6241 - loss: 0.8946 - val_accuracy: 0.6985 - val_loss: 0.8345\n",
      "Epoch 4/30\n",
      "\u001b[1m21/21\u001b[0m \u001b[32m━━━━━━━━━━━━━━━━━━━━\u001b[0m\u001b[37m\u001b[0m \u001b[1m0s\u001b[0m 20ms/step - accuracy: 0.6766 - loss: 0.8314 - val_accuracy: 0.5879 - val_loss: 0.9585\n",
      "Epoch 5/30\n",
      "\u001b[1m21/21\u001b[0m \u001b[32m━━━━━━━━━━━━━━━━━━━━\u001b[0m\u001b[37m\u001b[0m \u001b[1m0s\u001b[0m 19ms/step - accuracy: 0.6759 - loss: 0.7941 - val_accuracy: 0.7008 - val_loss: 0.8594\n",
      "Epoch 6/30\n",
      "\u001b[1m21/21\u001b[0m \u001b[32m━━━━━━━━━━━━━━━━━━━━\u001b[0m\u001b[37m\u001b[0m \u001b[1m1s\u001b[0m 24ms/step - accuracy: 0.7480 - loss: 0.6766 - val_accuracy: 0.6076 - val_loss: 0.9581\n",
      "Epoch 7/30\n",
      "\u001b[1m21/21\u001b[0m \u001b[32m━━━━━━━━━━━━━━━━━━━━\u001b[0m\u001b[37m\u001b[0m \u001b[1m0s\u001b[0m 22ms/step - accuracy: 0.7336 - loss: 0.7046 - val_accuracy: 0.7265 - val_loss: 0.6795\n",
      "Epoch 8/30\n",
      "\u001b[1m21/21\u001b[0m \u001b[32m━━━━━━━━━━━━━━━━━━━━\u001b[0m\u001b[37m\u001b[0m \u001b[1m0s\u001b[0m 20ms/step - accuracy: 0.7509 - loss: 0.6628 - val_accuracy: 0.6856 - val_loss: 0.7868\n",
      "Epoch 9/30\n",
      "\u001b[1m21/21\u001b[0m \u001b[32m━━━━━━━━━━━━━━━━━━━━\u001b[0m\u001b[37m\u001b[0m \u001b[1m0s\u001b[0m 19ms/step - accuracy: 0.7610 - loss: 0.6224 - val_accuracy: 0.7970 - val_loss: 0.5905\n",
      "Epoch 10/30\n",
      "\u001b[1m21/21\u001b[0m \u001b[32m━━━━━━━━━━━━━━━━━━━━\u001b[0m\u001b[37m\u001b[0m \u001b[1m0s\u001b[0m 19ms/step - accuracy: 0.7787 - loss: 0.5896 - val_accuracy: 0.8008 - val_loss: 0.5542\n",
      "Epoch 11/30\n",
      "\u001b[1m21/21\u001b[0m \u001b[32m━━━━━━━━━━━━━━━━━━━━\u001b[0m\u001b[37m\u001b[0m \u001b[1m1s\u001b[0m 24ms/step - accuracy: 0.8025 - loss: 0.5891 - val_accuracy: 0.7841 - val_loss: 0.5937\n",
      "Epoch 12/30\n",
      "\u001b[1m21/21\u001b[0m \u001b[32m━━━━━━━━━━━━━━━━━━━━\u001b[0m\u001b[37m\u001b[0m \u001b[1m1s\u001b[0m 28ms/step - accuracy: 0.8175 - loss: 0.5339 - val_accuracy: 0.7500 - val_loss: 0.6485\n",
      "Epoch 13/30\n",
      "\u001b[1m21/21\u001b[0m \u001b[32m━━━━━━━━━━━━━━━━━━━━\u001b[0m\u001b[37m\u001b[0m \u001b[1m1s\u001b[0m 24ms/step - accuracy: 0.8258 - loss: 0.4891 - val_accuracy: 0.7424 - val_loss: 0.7024\n",
      "Epoch 14/30\n",
      "\u001b[1m21/21\u001b[0m \u001b[32m━━━━━━━━━━━━━━━━━━━━\u001b[0m\u001b[37m\u001b[0m \u001b[1m0s\u001b[0m 22ms/step - accuracy: 0.7723 - loss: 0.6005 - val_accuracy: 0.8045 - val_loss: 0.5521\n",
      "Epoch 15/30\n",
      "\u001b[1m21/21\u001b[0m \u001b[32m━━━━━━━━━━━━━━━━━━━━\u001b[0m\u001b[37m\u001b[0m \u001b[1m0s\u001b[0m 22ms/step - accuracy: 0.8295 - loss: 0.4641 - val_accuracy: 0.7992 - val_loss: 0.5623\n",
      "Epoch 16/30\n",
      "\u001b[1m21/21\u001b[0m \u001b[32m━━━━━━━━━━━━━━━━━━━━\u001b[0m\u001b[37m\u001b[0m \u001b[1m1s\u001b[0m 21ms/step - accuracy: 0.8086 - loss: 0.5160 - val_accuracy: 0.7939 - val_loss: 0.5684\n",
      "Epoch 17/30\n",
      "\u001b[1m21/21\u001b[0m \u001b[32m━━━━━━━━━━━━━━━━━━━━\u001b[0m\u001b[37m\u001b[0m \u001b[1m0s\u001b[0m 22ms/step - accuracy: 0.8276 - loss: 0.4727 - val_accuracy: 0.7742 - val_loss: 0.6263\n",
      "Epoch 18/30\n",
      "\u001b[1m21/21\u001b[0m \u001b[32m━━━━━━━━━━━━━━━━━━━━\u001b[0m\u001b[37m\u001b[0m \u001b[1m0s\u001b[0m 21ms/step - accuracy: 0.8347 - loss: 0.4909 - val_accuracy: 0.8159 - val_loss: 0.5259\n",
      "Epoch 19/30\n",
      "\u001b[1m21/21\u001b[0m \u001b[32m━━━━━━━━━━━━━━━━━━━━\u001b[0m\u001b[37m\u001b[0m \u001b[1m1s\u001b[0m 24ms/step - accuracy: 0.8467 - loss: 0.4164 - val_accuracy: 0.8174 - val_loss: 0.5346\n",
      "Epoch 20/30\n",
      "\u001b[1m21/21\u001b[0m \u001b[32m━━━━━━━━━━━━━━━━━━━━\u001b[0m\u001b[37m\u001b[0m \u001b[1m1s\u001b[0m 20ms/step - accuracy: 0.8462 - loss: 0.4445 - val_accuracy: 0.8098 - val_loss: 0.5142\n",
      "Epoch 21/30\n",
      "\u001b[1m21/21\u001b[0m \u001b[32m━━━━━━━━━━━━━━━━━━━━\u001b[0m\u001b[37m\u001b[0m \u001b[1m0s\u001b[0m 20ms/step - accuracy: 0.8686 - loss: 0.3928 - val_accuracy: 0.7803 - val_loss: 0.5968\n",
      "Epoch 22/30\n",
      "\u001b[1m21/21\u001b[0m \u001b[32m━━━━━━━━━━━━━━━━━━━━\u001b[0m\u001b[37m\u001b[0m \u001b[1m0s\u001b[0m 20ms/step - accuracy: 0.8227 - loss: 0.4736 - val_accuracy: 0.8091 - val_loss: 0.5173\n",
      "Epoch 23/30\n",
      "\u001b[1m21/21\u001b[0m \u001b[32m━━━━━━━━━━━━━━━━━━━━\u001b[0m\u001b[37m\u001b[0m \u001b[1m0s\u001b[0m 20ms/step - accuracy: 0.8541 - loss: 0.4141 - val_accuracy: 0.7250 - val_loss: 0.9293\n",
      "Epoch 24/30\n",
      "\u001b[1m21/21\u001b[0m \u001b[32m━━━━━━━━━━━━━━━━━━━━\u001b[0m\u001b[37m\u001b[0m \u001b[1m0s\u001b[0m 20ms/step - accuracy: 0.8331 - loss: 0.4624 - val_accuracy: 0.8159 - val_loss: 0.5184\n",
      "Epoch 25/30\n",
      "\u001b[1m21/21\u001b[0m \u001b[32m━━━━━━━━━━━━━━━━━━━━\u001b[0m\u001b[37m\u001b[0m \u001b[1m1s\u001b[0m 25ms/step - accuracy: 0.8796 - loss: 0.3636 - val_accuracy: 0.7508 - val_loss: 0.7264\n",
      "Epoch 26/30\n",
      "\u001b[1m21/21\u001b[0m \u001b[32m━━━━━━━━━━━━━━━━━━━━\u001b[0m\u001b[37m\u001b[0m \u001b[1m1s\u001b[0m 24ms/step - accuracy: 0.8429 - loss: 0.4213 - val_accuracy: 0.8061 - val_loss: 0.5255\n",
      "Epoch 27/30\n",
      "\u001b[1m21/21\u001b[0m \u001b[32m━━━━━━━━━━━━━━━━━━━━\u001b[0m\u001b[37m\u001b[0m \u001b[1m0s\u001b[0m 20ms/step - accuracy: 0.8820 - loss: 0.3586 - val_accuracy: 0.7689 - val_loss: 0.6477\n",
      "Epoch 28/30\n",
      "\u001b[1m21/21\u001b[0m \u001b[32m━━━━━━━━━━━━━━━━━━━━\u001b[0m\u001b[37m\u001b[0m \u001b[1m0s\u001b[0m 19ms/step - accuracy: 0.8677 - loss: 0.3814 - val_accuracy: 0.8235 - val_loss: 0.4914\n",
      "Epoch 29/30\n",
      "\u001b[1m21/21\u001b[0m \u001b[32m━━━━━━━━━━━━━━━━━━━━\u001b[0m\u001b[37m\u001b[0m \u001b[1m0s\u001b[0m 21ms/step - accuracy: 0.8924 - loss: 0.3413 - val_accuracy: 0.8250 - val_loss: 0.5031\n",
      "Epoch 30/30\n",
      "\u001b[1m21/21\u001b[0m \u001b[32m━━━━━━━━━━━━━━━━━━━━\u001b[0m\u001b[37m\u001b[0m \u001b[1m0s\u001b[0m 20ms/step - accuracy: 0.8912 - loss: 0.3557 - val_accuracy: 0.7894 - val_loss: 0.6101\n"
     ]
    }
   ],
   "source": [
    "history = network.fit(train_images, \n",
    "                      train_labels, \n",
    "                      epochs=30,\n",
    "                      batch_size=128, \n",
    "                      validation_data=(test_images, test_labels))"
   ]
  },
  {
   "cell_type": "code",
   "execution_count": 38,
   "id": "906a47a2-d074-4bf8-92dd-990ff6e3600a",
   "metadata": {},
   "outputs": [
    {
     "name": "stdout",
     "output_type": "stream",
     "text": [
      "Final network accuracy:  78.94 %\n"
     ]
    }
   ],
   "source": [
    "# Evaluate the model\n",
    "scores = network.evaluate(test_images, test_labels, verbose=0)\n",
    "scores = round(scores[1]*100, 2)\n",
    "print('Final network accuracy: ', scores, \"%\")"
   ]
  },
  {
   "cell_type": "code",
   "execution_count": 39,
   "id": "48eb1996-af1f-406a-a1f4-61b5f85ee119",
   "metadata": {},
   "outputs": [
    {
     "data": {
      "text/plain": [
       "\"\\nimport numpy as np\\nimport matplotlib.pyplot as plt\\n\\n# 예측을 수행하고 최대 확률 인덱스를 클래스로 사용\\npred_probs = network.predict(test_images)  # 모델로부터 클래스 확률을 예측\\npred_classes = np.argmax(pred_probs, axis=1)  # 확률 배열에서 가장 높은 값을 가진 인덱스를 찾음\\n\\n# 예측된 클래스 인덱스를 사용하여 레이블 가져오기\\nfor i in 20 + np.array(range(10)):\\n    pred = list(class_dict)[pred_classes[i]]\\n    plt.imshow(test_images_orig[i].reshape((side, side)), cmap=plt.cm.binary)\\n    plt.title(f'Prediction: {pred}')\\n    plt.show()\\n\""
      ]
     },
     "execution_count": 39,
     "metadata": {},
     "output_type": "execute_result"
    }
   ],
   "source": [
    "'''# Predict classes for new data\n",
    "for i in 20+np.array(range(10)):\n",
    "    pred = list(class_dict)[network.predict(test_images)[i]]\n",
    "    plt.imshow(test_images_orig[i].reshape((side, side)), cmap=plt.cm.binary)\n",
    "    plt.title(f'Prediction: {pred}')\n",
    "    plt.show()\n",
    "    '''\n",
    "'''\n",
    "import numpy as np\n",
    "import matplotlib.pyplot as plt\n",
    "\n",
    "# 예측을 수행하고 최대 확률 인덱스를 클래스로 사용\n",
    "pred_probs = network.predict(test_images)  # 모델로부터 클래스 확률을 예측\n",
    "pred_classes = np.argmax(pred_probs, axis=1)  # 확률 배열에서 가장 높은 값을 가진 인덱스를 찾음\n",
    "\n",
    "# 예측된 클래스 인덱스를 사용하여 레이블 가져오기\n",
    "for i in 20 + np.array(range(10)):\n",
    "    pred = list(class_dict)[pred_classes[i]]\n",
    "    plt.imshow(test_images_orig[i].reshape((side, side)), cmap=plt.cm.binary)\n",
    "    plt.title(f'Prediction: {pred}')\n",
    "    plt.show()\n",
    "'''\n"
   ]
  },
  {
   "cell_type": "code",
   "execution_count": 40,
   "id": "cdc20153-9cbd-4164-8d45-fe5a7de2b36e",
   "metadata": {},
   "outputs": [
    {
     "data": {
      "image/png": "[encoded data removed]",
      "text/plain": [
       "<Figure size 640x480 with 1 Axes>"
      ]
     },
     "metadata": {},
     "output_type": "display_data"
    },
    {
     "data": {
      "image/png": "[encoded data removed]",
      "text/plain": [
       "<Figure size 640x480 with 1 Axes>"
      ]
     },
     "metadata": {},
     "output_type": "display_data"
    }
   ],
   "source": [
    "# Accuracy of the model\n",
    "plt.plot(history.history['accuracy'])\n",
    "plt.plot(history.history['val_accuracy'])\n",
    "plt.title('Model accuracy')\n",
    "plt.ylabel('Accuracy')\n",
    "plt.xlabel('Epoch')\n",
    "plt.legend(['Train', 'Test'], loc='upper left')\n",
    "plt.show()\n",
    "\n",
    "# Loss of the model\n",
    "plt.plot(history.history['loss']) \n",
    "plt.plot(history.history['val_loss']) \n",
    "plt.title('Model loss') \n",
    "plt.ylabel('Loss') \n",
    "plt.xlabel('Epoch') \n",
    "plt.legend(['Train', 'Test'], loc='upper left') \n",
    "plt.show()"
   ]
  },
  {
   "cell_type": "markdown",
   "id": "1389b355-bb69-4fe4-8877-e5f4083201bd",
   "metadata": {},
   "source": [
    "# K-fold Cross-Validation"
   ]
  },
  {
   "cell_type": "code",
   "execution_count": 41,
   "id": "4a7209f4-ab7e-48d4-8a23-ffdc75146171",
   "metadata": {},
   "outputs": [],
   "source": [
    "X = X.reshape(X.shape[0], small_side*small_side)\n",
    "X = X.astype('float32')/255\n",
    "y = y.astype('uint8')"
   ]
  },
  {
   "cell_type": "code",
   "execution_count": 42,
   "id": "196c4644-0bb9-4991-b741-375b14446962",
   "metadata": {},
   "outputs": [
    {
     "name": "stdout",
     "output_type": "stream",
     "text": [
      "Split n° 1\n",
      "compile_metrics: 78.37%\n",
      "Split n° 2\n",
      "compile_metrics: 80.75%\n",
      "Split n° 3\n",
      "compile_metrics: 82.63%\n",
      "Split n° 4\n",
      "compile_metrics: 79.50%\n",
      "Split n° 5\n",
      "compile_metrics: 82.38%\n",
      "\n",
      "80.73% (+/- 1.63%)\n"
     ]
    }
   ],
   "source": [
    "kfold = KFold(n_splits=5, random_state=None, shuffle=True)\n",
    "\n",
    "cvscores = []\n",
    "split_nb = 0\n",
    "for train, test in kfold.split(X, y):\n",
    "    split_nb += 1\n",
    "    print('Split n°', split_nb)\n",
    "    # Create the model\n",
    "    k_network = models.Sequential()\n",
    "    k_network.add(layers.Dense(512, activation='relu', input_shape=(small_side*small_side,)))\n",
    "    k_network.add(layers.Dense(nb_classes, activation='softmax'))\n",
    "    # Compile the model\n",
    "    k_network.compile(optimizer='rmsprop', \n",
    "               loss='sparse_categorical_crossentropy',\n",
    "               metrics=['accuracy'])\n",
    "    # Fit the model\n",
    "    k_network.fit(X[train], y[train], epochs=30, batch_size=128, verbose=0)\n",
    "    # evaluate the model\n",
    "    scores = k_network.evaluate(X[test], y[test], verbose=0)\n",
    "    print(\"%s: %.2f%%\" % (k_network.metrics_names[1], scores[1]*100))\n",
    "    cvscores.append(scores[1] * 100)\n",
    "print(\"\\n%.2f%% (+/- %.2f%%)\" % (np.mean(cvscores), np.std(cvscores)))"
   ]
  },
  {
   "cell_type": "markdown",
   "id": "d57fe0ae-0c58-47f5-8fc5-13614515dd10",
   "metadata": {},
   "source": [
    "# Build the CNN model"
   ]
  },
  {
   "cell_type": "code",
   "execution_count": 43,
   "id": "f00c65cf-a6cc-4858-ac86-5b55a3a856d7",
   "metadata": {},
   "outputs": [],
   "source": [
    "# Re-load the data\n",
    "X_orig = np.load('npy/features_labels/X_orig.npy')\n",
    "y = np.load('npy/features_labels/y.npy')"
   ]
  },
  {
   "cell_type": "code",
   "execution_count": 44,
   "id": "70e701bf-5e16-4a5a-9a15-2651a0fe22b6",
   "metadata": {},
   "outputs": [],
   "source": [
    "# Reshape the data\n",
    "side = 256\n",
    "small_side = 28\n",
    "X = resizing_X(X_orig, small_side)\n",
    "\n",
    "X_orig = X_orig.reshape(X_orig.shape[0] *X_orig.shape[1], side, side)\n",
    "X = X.reshape(X.shape[0] * X.shape[1], small_side, small_side)\n",
    "y = y.reshape(y.shape[0] * y.shape[1])"
   ]
  },
  {
   "cell_type": "code",
   "execution_count": 45,
   "id": "4c05d79d-f5a4-4c59-8807-ecf958f68c15",
   "metadata": {},
   "outputs": [],
   "source": [
    "# Split the dataset into train and test sets\n",
    "test_size = 0.33\n",
    "train_images, test_images, train_images_orig, test_images_orig, train_labels, test_labels = train_test_split(X, X_orig, y, test_size = test_size, random_state = 0, shuffle = True)\n",
    "\n",
    "# Pre-process the data\n",
    "train_images = train_images.reshape(train_images.shape[0], small_side, small_side, 1)\n",
    "train_images = train_images.astype('float32')/255\n",
    "\n",
    "test_images = test_images.reshape(test_images.shape[0], small_side, small_side, 1)\n",
    "test_images = test_images.astype('float32')/255"
   ]
  },
  {
   "cell_type": "code",
   "execution_count": 46,
   "id": "fb0bc687-12a6-4257-b0cc-5cb9e8113e41",
   "metadata": {},
   "outputs": [],
   "source": [
    "def convnet_model(nb_classes, small_side):\n",
    "    \"\"\"This function is the architecture of the CNN model.\"\"\"\n",
    "    convnet = models.Sequential()\n",
    "    convnet.add(layers.Conv2D(32, (5, 5), activation='relu', input_shape=(small_side, small_side, 1)))\n",
    "    convnet.add(layers.MaxPooling2D((2, 2)))\n",
    "    convnet.add(layers.Conv2D(128, (3, 3), activation='relu'))\n",
    "    convnet.add(layers.MaxPooling2D((2, 2)))\n",
    "    convnet.add(layers.Dropout(0.4))\n",
    "    convnet.add(layers.Flatten())\n",
    "    convnet.add(layers.Dense(128, activation='relu'))\n",
    "    convnet.add(layers.Dense(50, activation='relu'))\n",
    "    convnet.add(layers.Dense(nb_classes, activation='softmax'))\n",
    "\n",
    "    optimizer = Adam(learning_rate= 0.001)\n",
    "    convnet.compile(optimizer='adam', \n",
    "                   loss='sparse_categorical_crossentropy',\n",
    "                   metrics=['accuracy'])\n",
    "    return convnet"
   ]
  },
  {
   "cell_type": "code",
   "execution_count": 47,
   "id": "0257b6bb-f952-4224-a100-6196b417d520",
   "metadata": {},
   "outputs": [
    {
     "name": "stdout",
     "output_type": "stream",
     "text": [
      "Epoch 1/20\n"
     ]
    },
    {
     "name": "stderr",
     "output_type": "stream",
     "text": [
      "C:\\Users\\USER\\anaconda3\\Lib\\site-packages\\keras\\src\\layers\\convolutional\\base_conv.py:107: UserWarning: Do not pass an `input_shape`/`input_dim` argument to a layer. When using Sequential models, prefer using an `Input(shape)` object as the first layer in the model instead.\n",
      "  super().__init__(activity_regularizer=activity_regularizer, **kwargs)\n"
     ]
    },
    {
     "name": "stdout",
     "output_type": "stream",
     "text": [
      "\u001b[1m21/21\u001b[0m \u001b[32m━━━━━━━━━━━━━━━━━━━━\u001b[0m\u001b[37m\u001b[0m \u001b[1m3s\u001b[0m 42ms/step - accuracy: 0.4137 - loss: 1.2561 - val_accuracy: 0.7265 - val_loss: 0.6998\n",
      "Epoch 2/20\n",
      "\u001b[1m21/21\u001b[0m \u001b[32m━━━━━━━━━━━━━━━━━━━━\u001b[0m\u001b[37m\u001b[0m \u001b[1m1s\u001b[0m 31ms/step - accuracy: 0.7587 - loss: 0.6153 - val_accuracy: 0.8212 - val_loss: 0.4930\n",
      "Epoch 3/20\n",
      "\u001b[1m21/21\u001b[0m \u001b[32m━━━━━━━━━━━━━━━━━━━━\u001b[0m\u001b[37m\u001b[0m \u001b[1m1s\u001b[0m 38ms/step - accuracy: 0.8273 - loss: 0.4862 - val_accuracy: 0.8227 - val_loss: 0.4590\n",
      "Epoch 4/20\n",
      "\u001b[1m21/21\u001b[0m \u001b[32m━━━━━━━━━━━━━━━━━━━━\u001b[0m\u001b[37m\u001b[0m \u001b[1m1s\u001b[0m 35ms/step - accuracy: 0.8423 - loss: 0.4386 - val_accuracy: 0.8742 - val_loss: 0.3728\n",
      "Epoch 5/20\n",
      "\u001b[1m21/21\u001b[0m \u001b[32m━━━━━━━━━━━━━━━━━━━━\u001b[0m\u001b[37m\u001b[0m \u001b[1m1s\u001b[0m 35ms/step - accuracy: 0.8715 - loss: 0.3774 - val_accuracy: 0.8848 - val_loss: 0.3343\n",
      "Epoch 6/20\n",
      "\u001b[1m21/21\u001b[0m \u001b[32m━━━━━━━━━━━━━━━━━━━━\u001b[0m\u001b[37m\u001b[0m \u001b[1m1s\u001b[0m 42ms/step - accuracy: 0.8885 - loss: 0.3358 - val_accuracy: 0.8985 - val_loss: 0.2976\n",
      "Epoch 7/20\n",
      "\u001b[1m21/21\u001b[0m \u001b[32m━━━━━━━━━━━━━━━━━━━━\u001b[0m\u001b[37m\u001b[0m \u001b[1m1s\u001b[0m 38ms/step - accuracy: 0.9035 - loss: 0.2760 - val_accuracy: 0.9053 - val_loss: 0.2806\n",
      "Epoch 8/20\n",
      "\u001b[1m21/21\u001b[0m \u001b[32m━━━━━━━━━━━━━━━━━━━━\u001b[0m\u001b[37m\u001b[0m \u001b[1m1s\u001b[0m 38ms/step - accuracy: 0.9179 - loss: 0.2633 - val_accuracy: 0.9061 - val_loss: 0.2628\n",
      "Epoch 9/20\n",
      "\u001b[1m21/21\u001b[0m \u001b[32m━━━━━━━━━━━━━━━━━━━━\u001b[0m\u001b[37m\u001b[0m \u001b[1m1s\u001b[0m 39ms/step - accuracy: 0.9174 - loss: 0.2479 - val_accuracy: 0.8939 - val_loss: 0.3130\n",
      "Epoch 10/20\n",
      "\u001b[1m21/21\u001b[0m \u001b[32m━━━━━━━━━━━━━━━━━━━━\u001b[0m\u001b[37m\u001b[0m \u001b[1m1s\u001b[0m 35ms/step - accuracy: 0.9185 - loss: 0.2320 - val_accuracy: 0.9159 - val_loss: 0.2374\n",
      "Epoch 11/20\n",
      "\u001b[1m21/21\u001b[0m \u001b[32m━━━━━━━━━━━━━━━━━━━━\u001b[0m\u001b[37m\u001b[0m \u001b[1m1s\u001b[0m 38ms/step - accuracy: 0.9359 - loss: 0.1931 - val_accuracy: 0.9152 - val_loss: 0.2409\n",
      "Epoch 12/20\n",
      "\u001b[1m21/21\u001b[0m \u001b[32m━━━━━━━━━━━━━━━━━━━━\u001b[0m\u001b[37m\u001b[0m \u001b[1m1s\u001b[0m 35ms/step - accuracy: 0.9455 - loss: 0.1655 - val_accuracy: 0.9114 - val_loss: 0.2452\n",
      "Epoch 13/20\n",
      "\u001b[1m21/21\u001b[0m \u001b[32m━━━━━━━━━━━━━━━━━━━━\u001b[0m\u001b[37m\u001b[0m \u001b[1m1s\u001b[0m 35ms/step - accuracy: 0.9392 - loss: 0.1869 - val_accuracy: 0.9129 - val_loss: 0.2430\n",
      "Epoch 14/20\n",
      "\u001b[1m21/21\u001b[0m \u001b[32m━━━━━━━━━━━━━━━━━━━━\u001b[0m\u001b[37m\u001b[0m \u001b[1m1s\u001b[0m 35ms/step - accuracy: 0.9524 - loss: 0.1530 - val_accuracy: 0.9152 - val_loss: 0.2425\n",
      "Epoch 15/20\n",
      "\u001b[1m21/21\u001b[0m \u001b[32m━━━━━━━━━━━━━━━━━━━━\u001b[0m\u001b[37m\u001b[0m \u001b[1m1s\u001b[0m 37ms/step - accuracy: 0.9537 - loss: 0.1344 - val_accuracy: 0.9182 - val_loss: 0.2315\n",
      "Epoch 16/20\n",
      "\u001b[1m21/21\u001b[0m \u001b[32m━━━━━━━━━━━━━━━━━━━━\u001b[0m\u001b[37m\u001b[0m \u001b[1m1s\u001b[0m 34ms/step - accuracy: 0.9558 - loss: 0.1257 - val_accuracy: 0.9242 - val_loss: 0.2186\n",
      "Epoch 17/20\n",
      "\u001b[1m21/21\u001b[0m \u001b[32m━━━━━━━━━━━━━━━━━━━━\u001b[0m\u001b[37m\u001b[0m \u001b[1m1s\u001b[0m 38ms/step - accuracy: 0.9620 - loss: 0.1170 - val_accuracy: 0.9265 - val_loss: 0.2219\n",
      "Epoch 18/20\n",
      "\u001b[1m21/21\u001b[0m \u001b[32m━━━━━━━━━━━━━━━━━━━━\u001b[0m\u001b[37m\u001b[0m \u001b[1m1s\u001b[0m 36ms/step - accuracy: 0.9660 - loss: 0.1028 - val_accuracy: 0.9280 - val_loss: 0.2058\n",
      "Epoch 19/20\n",
      "\u001b[1m21/21\u001b[0m \u001b[32m━━━━━━━━━━━━━━━━━━━━\u001b[0m\u001b[37m\u001b[0m \u001b[1m1s\u001b[0m 35ms/step - accuracy: 0.9705 - loss: 0.0985 - val_accuracy: 0.9288 - val_loss: 0.2149\n",
      "Epoch 20/20\n",
      "\u001b[1m21/21\u001b[0m \u001b[32m━━━━━━━━━━━━━━━━━━━━\u001b[0m\u001b[37m\u001b[0m \u001b[1m1s\u001b[0m 36ms/step - accuracy: 0.9730 - loss: 0.0790 - val_accuracy: 0.9197 - val_loss: 0.2296\n"
     ]
    }
   ],
   "source": [
    "# CNN with 2 classes\n",
    "convnet_2 = convnet_model(nb_classes, small_side)\n",
    "history_2 = convnet_2.fit(train_images, train_labels, epochs=20, batch_size=128, validation_data=(test_images, test_labels))"
   ]
  },
  {
   "cell_type": "code",
   "execution_count": 48,
   "id": "25e9cdfb-9a32-482b-9297-3c1afa648b48",
   "metadata": {},
   "outputs": [
    {
     "name": "stdout",
     "output_type": "stream",
     "text": [
      "Epoch 1/15\n",
      "\u001b[1m21/21\u001b[0m \u001b[32m━━━━━━━━━━━━━━━━━━━━\u001b[0m\u001b[37m\u001b[0m \u001b[1m3s\u001b[0m 44ms/step - accuracy: 0.4002 - loss: 1.2850 - val_accuracy: 0.6833 - val_loss: 0.7589\n",
      "Epoch 2/15\n",
      "\u001b[1m21/21\u001b[0m \u001b[32m━━━━━━━━━━━━━━━━━━━━\u001b[0m\u001b[37m\u001b[0m \u001b[1m1s\u001b[0m 38ms/step - accuracy: 0.7544 - loss: 0.6536 - val_accuracy: 0.8152 - val_loss: 0.4929\n",
      "Epoch 3/15\n",
      "\u001b[1m21/21\u001b[0m \u001b[32m━━━━━━━━━━━━━━━━━━━━\u001b[0m\u001b[37m\u001b[0m \u001b[1m1s\u001b[0m 42ms/step - accuracy: 0.8373 - loss: 0.4841 - val_accuracy: 0.8545 - val_loss: 0.4141\n",
      "Epoch 4/15\n",
      "\u001b[1m21/21\u001b[0m \u001b[32m━━━━━━━━━━━━━━━━━━━━\u001b[0m\u001b[37m\u001b[0m \u001b[1m1s\u001b[0m 39ms/step - accuracy: 0.8726 - loss: 0.3936 - val_accuracy: 0.8705 - val_loss: 0.3460\n",
      "Epoch 5/15\n",
      "\u001b[1m21/21\u001b[0m \u001b[32m━━━━━━━━━━━━━━━━━━━━\u001b[0m\u001b[37m\u001b[0m \u001b[1m1s\u001b[0m 34ms/step - accuracy: 0.8878 - loss: 0.3404 - val_accuracy: 0.9023 - val_loss: 0.3021\n",
      "Epoch 6/15\n",
      "\u001b[1m21/21\u001b[0m \u001b[32m━━━━━━━━━━━━━━━━━━━━\u001b[0m\u001b[37m\u001b[0m \u001b[1m1s\u001b[0m 35ms/step - accuracy: 0.9008 - loss: 0.3140 - val_accuracy: 0.8947 - val_loss: 0.2996\n",
      "Epoch 7/15\n",
      "\u001b[1m21/21\u001b[0m \u001b[32m━━━━━━━━━━━━━━━━━━━━\u001b[0m\u001b[37m\u001b[0m \u001b[1m1s\u001b[0m 40ms/step - accuracy: 0.9198 - loss: 0.2489 - val_accuracy: 0.9182 - val_loss: 0.2542\n",
      "Epoch 8/15\n",
      "\u001b[1m21/21\u001b[0m \u001b[32m━━━━━━━━━━━━━━━━━━━━\u001b[0m\u001b[37m\u001b[0m \u001b[1m1s\u001b[0m 33ms/step - accuracy: 0.9394 - loss: 0.2145 - val_accuracy: 0.9083 - val_loss: 0.2609\n",
      "Epoch 9/15\n",
      "\u001b[1m21/21\u001b[0m \u001b[32m━━━━━━━━━━━━━━━━━━━━\u001b[0m\u001b[37m\u001b[0m \u001b[1m1s\u001b[0m 33ms/step - accuracy: 0.9323 - loss: 0.2119 - val_accuracy: 0.9197 - val_loss: 0.2485\n",
      "Epoch 10/15\n",
      "\u001b[1m21/21\u001b[0m \u001b[32m━━━━━━━━━━━━━━━━━━━━\u001b[0m\u001b[37m\u001b[0m \u001b[1m1s\u001b[0m 36ms/step - accuracy: 0.9473 - loss: 0.1835 - val_accuracy: 0.9189 - val_loss: 0.2313\n",
      "Epoch 11/15\n",
      "\u001b[1m21/21\u001b[0m \u001b[32m━━━━━━━━━━━━━━━━━━━━\u001b[0m\u001b[37m\u001b[0m \u001b[1m1s\u001b[0m 32ms/step - accuracy: 0.9430 - loss: 0.1793 - val_accuracy: 0.9250 - val_loss: 0.2193\n",
      "Epoch 12/15\n",
      "\u001b[1m21/21\u001b[0m \u001b[32m━━━━━━━━━━━━━━━━━━━━\u001b[0m\u001b[37m\u001b[0m \u001b[1m1s\u001b[0m 36ms/step - accuracy: 0.9491 - loss: 0.1544 - val_accuracy: 0.9250 - val_loss: 0.2224\n",
      "Epoch 13/15\n",
      "\u001b[1m21/21\u001b[0m \u001b[32m━━━━━━━━━━━━━━━━━━━━\u001b[0m\u001b[37m\u001b[0m \u001b[1m1s\u001b[0m 32ms/step - accuracy: 0.9498 - loss: 0.1604 - val_accuracy: 0.9250 - val_loss: 0.2178\n",
      "Epoch 14/15\n",
      "\u001b[1m21/21\u001b[0m \u001b[32m━━━━━━━━━━━━━━━━━━━━\u001b[0m\u001b[37m\u001b[0m \u001b[1m1s\u001b[0m 32ms/step - accuracy: 0.9662 - loss: 0.1149 - val_accuracy: 0.9258 - val_loss: 0.2202\n",
      "Epoch 15/15\n",
      "\u001b[1m21/21\u001b[0m \u001b[32m━━━━━━━━━━━━━━━━━━━━\u001b[0m\u001b[37m\u001b[0m \u001b[1m1s\u001b[0m 33ms/step - accuracy: 0.9649 - loss: 0.1177 - val_accuracy: 0.9121 - val_loss: 0.2564\n"
     ]
    }
   ],
   "source": [
    "# CNN with 4 classes of animals\n",
    "convnet_1 = convnet_model(nb_classes, small_side)\n",
    "history_1 = convnet_1.fit(train_images, train_labels, epochs=15, batch_size=128, validation_data=(test_images, test_labels))"
   ]
  },
  {
   "cell_type": "markdown",
   "id": "cea743ff-5ba8-43c7-a5fc-d57b121e0c76",
   "metadata": {},
   "source": [
    "# Evaluate the model"
   ]
  },
  {
   "cell_type": "code",
   "execution_count": 49,
   "id": "917c8dd3-6119-4866-a4ed-71a8e573a2d6",
   "metadata": {},
   "outputs": [
    {
     "name": "stdout",
     "output_type": "stream",
     "text": [
      "Final CNN accuracy:  91.97 %\n"
     ]
    }
   ],
   "source": [
    "# Scores of the model with 2 classes\n",
    "scores_2 = convnet_2.evaluate(test_images, test_labels, verbose=0)\n",
    "scores_2 = round(scores_2[1]*100, 2)\n",
    "print('Final CNN accuracy: ', scores_2, \"%\")"
   ]
  },
  {
   "cell_type": "code",
   "execution_count": 50,
   "id": "e8fe8ee8-97de-470b-b535-569129e8a0a0",
   "metadata": {},
   "outputs": [
    {
     "name": "stdout",
     "output_type": "stream",
     "text": [
      "Final CNN accuracy:  91.21 %\n"
     ]
    }
   ],
   "source": [
    "# Scores of the model with 4 classes\n",
    "scores_1 = convnet_1.evaluate(test_images, test_labels, verbose=0)\n",
    "scores_1 = round(scores_1[1]*100, 2)\n",
    "print('Final CNN accuracy: ', scores_1, \"%\")"
   ]
  },
  {
   "cell_type": "markdown",
   "id": "e57c1e95-cc9f-421b-a3df-395669d7e9a5",
   "metadata": {},
   "source": [
    "# Input Prediction"
   ]
  },
  {
   "cell_type": "code",
   "execution_count": 62,
   "id": "032558c6-7339-44d4-899e-e0a1bdb544ec",
   "metadata": {},
   "outputs": [
    {
     "name": "stdout",
     "output_type": "stream",
     "text": [
      "Warning: 'output_file.ndjson' already exists and will be overwritten.\n"
     ]
    }
   ],
   "source": [
    "import numpy as np\n",
    "import json\n",
    "import os\n",
    "\n",
    "def recursively_convert_to_list(item):\n",
    "    if isinstance(item, np.ndarray):\n",
    "        return recursively_convert_to_list(item.tolist())\n",
    "    elif isinstance(item, list):\n",
    "        return [recursively_convert_to_list(subitem) for subitem in item]\n",
    "    else:\n",
    "        return item\n",
    "\n",
    "# 파일 경로 설정\n",
    "file_path = 'output_file.ndjson'\n",
    "\n",
    "# 파일이 이미 존재하는지 확인\n",
    "if os.path.exists(file_path):\n",
    "    print(f\"Warning: '{file_path}' already exists and will be overwritten.\")\n",
    "else:\n",
    "    print(f\"'{file_path}' does not exist and will be created.\")\n",
    "\n",
    "# 파일 로드(파일 경로가 올바른지 확인 필요)\n",
    "data = np.load('C:/Users/USER/Desktop/Image Classification/npy/features_labels/rdp_deltas.npy')\n",
    "\n",
    "# .ndjson 파일로 저장\n",
    "with open(file_path, 'w') as file:\n",
    "    # 데이터가 NumPy 배열일 경우 리스트로 변환\n",
    "    data_list = recursively_convert_to_list(data)\n",
    "\n",
    "    # 리스트의 각 항목을 JSON 객체로 변환하여 저장\n",
    "    for item in data_list:\n",
    "        json_str = json.dumps(item)  # Python 객체를 JSON 문자열로 변환\n",
    "        file.write(json_str + '\\n')  # 파일에 쓰기\n"
   ]
  },
  {
   "cell_type": "code",
   "execution_count": 76,
   "id": "9a29b7c7-68ed-4e34-84e2-eb0773b91986",
   "metadata": {},
   "outputs": [
    {
     "data": {
      "image/png": "[encoded data removed]",
      "text/plain": [
       "<Figure size 640x480 with 1 Axes>"
      ]
     },
     "metadata": {},
     "output_type": "display_data"
    },
    {
     "data": {
      "text/plain": [
       "\"\\nimport numpy as np\\nimport matplotlib.pyplot as plt\\nfrom PIL import Image, ImageDraw\\n\\n# 데이터\\ndata = [\\n    [173, 100, 1], [-76, 1, 0], [-39, 14, 0], [-15, 11, 0], [-1, 17, 0], [6, 4, 0], [64, 2, 0], [41, -6, 0],\\n    [55, -19, 0], [-3, -9, 0], [-13, -11, 0], [-30, -1, 0], [-32, 16, 1], [-4, -31, 0], [1, -32, 0], [10, 4, 0],\\n    [14, 13, 0], [9, 17, 0], [6, 23, 0], [-97, 8, 1], [-1, 3, 0], [4, 3, 0], [21, -1, 0], [17, -6, 0],\\n    [4, -5, 0], [-28, 2, 0], [-14, 6, 0], [55, 6, 1], [0, 34, 0], [4, 16, 0], [12, 18, 0], [11, 3, 0],\\n    [7, -5, 0], [7, -13, 0], [3, -19, 0], [0, -27, 0], [-12, -18, 0], [25, -13, 1], [0, -25, 0], [4, -13, 0],\\n    [9, -10, 0], [8, -1, 0], [13, 16, 0], [6, 12, 0], [1, 10, 0], [-21, 14, 0], [11, 3, 0], [13, 9, 0],\\n    [7, 7, 0], [-1, 7, 0], [-6, 4, 0], [-23, 0, 0], [-23, -10, 0], [-10, -8, 0]\\n]\\n\\n# 이미지 초기화\\nwidth, height = 256, 256\\nimage = Image.new('L', (width, height), 0)\\ndraw = ImageDraw.Draw(image)\\n\\n# 중심점 설정\\nx, y = width // 2, height // 2\\n\\n# 데이터를 기반으로 이미지에 그리기\\nfor dx, dy, pen in data:\\n    new_x, new_y = x + dx, y + dy\\n    if pen == 1:\\n        draw.line((x, y, new_x, new_y), fill=255)  # 펜이 내려진 상태일 때 선을 그립니다.\\n    x, y = new_x, new_y  # 펜 위치 업데이트\\n\\n# 이미지 출력\\nplt.figure(figsize=(8, 8))\\nplt.imshow(image, cmap='gray')\\nplt.axis('off')  # 축 제거\\nplt.show()\\n\""
      ]
     },
     "execution_count": 76,
     "metadata": {},
     "output_type": "execute_result"
    }
   ],
   "source": [
    "\n",
    "import numpy as np\n",
    "import matplotlib.pyplot as plt\n",
    "from PIL import Image, ImageDraw\n",
    "\n",
    "# 제공된 델타 데이터\n",
    "data = [\n",
    "    [173, 100, 1], [-76, 1, 0], [-39, 14, 0], [-15, 11, 0], [-1, 17, 0], [6, 4, 0], [64, 2, 0], [41, -6, 0],\n",
    "    [55, -19, 0], [-3, -9, 0], [-13, -11, 0], [-30, -1, 0], [-32, 16, 1], [-4, -31, 0], [1, -32, 0], [10, 4, 0],\n",
    "    [14, 13, 0], [9, 17, 0], [6, 23, 0], [-97, 8, 1], [-1, 3, 0], [4, 3, 0], [21, -1, 0], [17, -6, 0],\n",
    "    [4, -5, 0], [-28, 2, 0], [-14, 6, 0], [55, 6, 1], [0, 34, 0], [4, 16, 0], [12, 18, 0], [11, 3, 0],\n",
    "    [7, -5, 0], [7, -13, 0], [3, -19, 0], [0, -27, 0], [-12, -18, 0], [25, -13, 1], [0, -25, 0], [4, -13, 0],\n",
    "    [9, -10, 0], [8, -1, 0], [13, 16, 0], [6, 12, 0], [1, 10, 0], [-21, 14, 0], [11, 3, 0], [13, 9, 0],\n",
    "    [7, 7, 0], [-1, 7, 0], [-6, 4, 0], [-23, 0, 0], [-23, -10, 0], [-10, -8, 0]\n",
    "]\n",
    "\n",
    "# 이미지 크기 및 초기 위치 설정\n",
    "width, height = 256, 256  # 이미지 크기\n",
    "image = Image.new('L', (width, height), 0)  # 검은색으로 초기화된 이미지 생성\n",
    "draw = ImageDraw.Draw(image)  # ImageDraw 모듈 사용\n",
    "\n",
    "x, y = width // 2, height // 2  # 시작 위치 (이미지 중앙)\n",
    "\n",
    "# 데이터 기반으로 이미지 그리기\n",
    "for dx, dy, pen in data:\n",
    "    new_x, new_y = x + dx, y + dy\n",
    "    if pen == 1:  # 펜이 붙어있으면 선을 그립니다.\n",
    "        draw.line((x, y, new_x, new_y), fill=255)\n",
    "    # 위치 업데이트\n",
    "    x, y = new_x, new_y\n",
    "\n",
    "# 이미지 크기 조정 (28x28)\n",
    "resized_image = image.resize((28, 28), Image.BILINEAR)\n",
    "\n",
    "# 이미지를 배열로 변환\n",
    "image_array = np.array(resized_image)\n",
    "\n",
    "# .npy 파일로 저장\n",
    "np.save('drawing.npy', image_array)\n",
    "\n",
    "# 결과 이미지 확인\n",
    "plt.imshow(image_array, cmap='gray')\n",
    "plt.axis('off')\n",
    "plt.show()\n",
    "\n",
    "'''\n",
    "import numpy as np\n",
    "import matplotlib.pyplot as plt\n",
    "from PIL import Image, ImageDraw\n",
    "\n",
    "# 데이터\n",
    "data = [\n",
    "    [173, 100, 1], [-76, 1, 0], [-39, 14, 0], [-15, 11, 0], [-1, 17, 0], [6, 4, 0], [64, 2, 0], [41, -6, 0],\n",
    "    [55, -19, 0], [-3, -9, 0], [-13, -11, 0], [-30, -1, 0], [-32, 16, 1], [-4, -31, 0], [1, -32, 0], [10, 4, 0],\n",
    "    [14, 13, 0], [9, 17, 0], [6, 23, 0], [-97, 8, 1], [-1, 3, 0], [4, 3, 0], [21, -1, 0], [17, -6, 0],\n",
    "    [4, -5, 0], [-28, 2, 0], [-14, 6, 0], [55, 6, 1], [0, 34, 0], [4, 16, 0], [12, 18, 0], [11, 3, 0],\n",
    "    [7, -5, 0], [7, -13, 0], [3, -19, 0], [0, -27, 0], [-12, -18, 0], [25, -13, 1], [0, -25, 0], [4, -13, 0],\n",
    "    [9, -10, 0], [8, -1, 0], [13, 16, 0], [6, 12, 0], [1, 10, 0], [-21, 14, 0], [11, 3, 0], [13, 9, 0],\n",
    "    [7, 7, 0], [-1, 7, 0], [-6, 4, 0], [-23, 0, 0], [-23, -10, 0], [-10, -8, 0]\n",
    "]\n",
    "\n",
    "# 이미지 초기화\n",
    "width, height = 256, 256\n",
    "image = Image.new('L', (width, height), 0)\n",
    "draw = ImageDraw.Draw(image)\n",
    "\n",
    "# 중심점 설정\n",
    "x, y = width // 2, height // 2\n",
    "\n",
    "# 데이터를 기반으로 이미지에 그리기\n",
    "for dx, dy, pen in data:\n",
    "    new_x, new_y = x + dx, y + dy\n",
    "    if pen == 1:\n",
    "        draw.line((x, y, new_x, new_y), fill=255)  # 펜이 내려진 상태일 때 선을 그립니다.\n",
    "    x, y = new_x, new_y  # 펜 위치 업데이트\n",
    "\n",
    "# 이미지 출력\n",
    "plt.figure(figsize=(8, 8))\n",
    "plt.imshow(image, cmap='gray')\n",
    "plt.axis('off')  # 축 제거\n",
    "plt.show()\n",
    "'''"
   ]
  },
  {
   "cell_type": "code",
   "execution_count": 77,
   "id": "128b96c2-6276-4407-b2ff-db3de2423781",
   "metadata": {},
   "outputs": [
    {
     "name": "stdout",
     "output_type": "stream",
     "text": [
      "\u001b[1m1/1\u001b[0m \u001b[32m━━━━━━━━━━━━━━━━━━━━\u001b[0m\u001b[37m\u001b[0m \u001b[1m0s\u001b[0m 21ms/step\n",
      "Predicted class: [3]\n"
     ]
    }
   ],
   "source": [
    "import numpy as np\n",
    "\n",
    "# 데이터 불러오기\n",
    "data = np.load('C:/Users/USER/Desktop/Image Classification/drawing.npy')\n",
    "\n",
    "# 채널 차원 추가\n",
    "data = data.reshape((28, 28, 1))\n",
    "\n",
    "# 배치 차원 추가\n",
    "data = np.expand_dims(data, axis=0)\n",
    "\n",
    "# 데이터 타입 변경 및 정규화\n",
    "data = data.astype('float32') / 255.0\n",
    "\n",
    "# 모델 예측\n",
    "predictions = convnet_1.predict(data)\n",
    "predicted_class = np.argmax(predictions, axis=1)\n",
    "\n",
    "print(\"Predicted class:\", predicted_class)\n"
   ]
  },
  {
   "cell_type": "code",
   "execution_count": null,
   "id": "ac7890ae-ef88-4f70-8865-e2f59912c7d5",
   "metadata": {},
   "outputs": [],
   "source": []
  }
 ],
 "metadata": {
  "kernelspec": {
   "display_name": "Python 3 (ipykernel)",
   "language": "python",
   "name": "python3"
  },
  "language_info": {
   "codemirror_mode": {
    "name": "ipython",
    "version": 3
   },
   "file_extension": ".py",
   "mimetype": "text/x-python",
   "name": "python",
   "nbconvert_exporter": "python",
   "pygments_lexer": "ipython3",
   "version": "3.11.7"
  }
 },
 "nbformat": 4,
 "nbformat_minor": 5
}
